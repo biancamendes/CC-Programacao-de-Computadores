{
 "cells": [
  {
   "cell_type": "markdown",
   "metadata": {},
   "source": [
    "# Exercícios run.codes"
   ]
  },
  {
   "cell_type": "markdown",
   "metadata": {},
   "source": [
    "## Testes\n",
    "Prazo de entrega: 13/10"
   ]
  },
  {
   "cell_type": "markdown",
   "metadata": {},
   "source": [
    "### Teste 1\n",
    "\n",
    "    O programa deve escrever o nome do professor !"
   ]
  },
  {
   "cell_type": "code",
   "execution_count": 3,
   "metadata": {},
   "outputs": [
    {
     "name": "stdout",
     "output_type": "stream",
     "text": [
      "Yuri\n"
     ]
    }
   ],
   "source": [
    "print('Yuri')"
   ]
  },
  {
   "cell_type": "markdown",
   "metadata": {},
   "source": [
    "### Teste 2\n",
    "\n",
    "    Receber dois números inteiros e imprimir a sua soma."
   ]
  },
  {
   "cell_type": "code",
   "execution_count": 7,
   "metadata": {},
   "outputs": [
    {
     "name": "stdin",
     "output_type": "stream",
     "text": [
      " 2\n",
      " 1\n"
     ]
    },
    {
     "name": "stdout",
     "output_type": "stream",
     "text": [
      "soma = 3\n"
     ]
    }
   ],
   "source": [
    "n1 = int(input()) #2\n",
    "n2 = int(input()) #1\n",
    "\n",
    "print ('soma =', n1+n2)"
   ]
  },
  {
   "cell_type": "markdown",
   "metadata": {},
   "source": [
    "### Teste 3\n",
    "\n",
    "    Receber dois números reais e imprimir a divisão do primeiro pelo segundo. O resultado deve ter duas casas decimais."
   ]
  },
  {
   "cell_type": "code",
   "execution_count": 8,
   "metadata": {},
   "outputs": [
    {
     "name": "stdin",
     "output_type": "stream",
     "text": [
      " 123\n",
      " 45\n"
     ]
    },
    {
     "name": "stdout",
     "output_type": "stream",
     "text": [
      "div = 2.73\n"
     ]
    }
   ],
   "source": [
    "n1 = float(input()) #123\n",
    "n2 = float(input()) #45\n",
    "\n",
    "print ('div = %.2f'%(n1/n2))"
   ]
  },
  {
   "cell_type": "markdown",
   "metadata": {},
   "source": [
    "## Sequências\n",
    "Prazo de entrega: 13/10"
   ]
  },
  {
   "cell_type": "markdown",
   "metadata": {},
   "source": [
    "### Sequencia 1) Perimetro\n",
    "\n",
    "    Faça um programa que exiba o perímetro de uma circunferência a partir do seu raio\n",
    "\n",
    "    ENTRADA: um número real representando o raio da circunferência\n",
    "\n",
    "    SAIDA: frase representando o perímetro da circunferência, no formato:\n",
    "        perímetro = <valor>    \n",
    "\n",
    "    Obs: <valor> é um real com 1 casa decimal"
   ]
  },
  {
   "cell_type": "code",
   "execution_count": 1,
   "metadata": {},
   "outputs": [
    {
     "name": "stdin",
     "output_type": "stream",
     "text": [
      " 2\n"
     ]
    },
    {
     "name": "stdout",
     "output_type": "stream",
     "text": [
      "perímetro = 12.6\n"
     ]
    }
   ],
   "source": [
    "r = float(input())\n",
    "\n",
    "print ('perímetro = %.1f'%(2*3.14*r))"
   ]
  },
  {
   "cell_type": "markdown",
   "metadata": {},
   "source": [
    "### Sequencia 2) Usuario\n",
    "\n",
    "    Faça um programa que leia o nome, a idade, a altura, o peso e a nacionalidade do usuário e escreva essas informações na forma de uma frase de apresentação.\n",
    "\n",
    "    ENTRADA: três números: idade (inteiro), altura (real) e peso (real); e um texto representando a nacionalidade\n",
    "    \n",
    "    SAIDA: cinco frases representando as informações do usuário no formato:\n",
    "        <nome>\n",
    "        <idade> anos\n",
    "        <altura> de altura\n",
    "        <peso> quilos\n",
    "        <nacionalidade>\n",
    "\n",
    "    Obs: <altura> e <peso> são reais com 2 casas decimais"
   ]
  },
  {
   "cell_type": "code",
   "execution_count": 16,
   "metadata": {},
   "outputs": [
    {
     "name": "stdin",
     "output_type": "stream",
     "text": [
      " Velma\n",
      " 23\n",
      " 1.7\n",
      " 62.43\n",
      " americana\n"
     ]
    },
    {
     "name": "stdout",
     "output_type": "stream",
     "text": [
      "Velma\n",
      "23 anos\n",
      "1.70 de altura\n",
      "62.43 quilos\n",
      "americana\n"
     ]
    }
   ],
   "source": [
    "nome          = input()\n",
    "idade         = int(input())\n",
    "altura        = float(input())\n",
    "peso          = float(input())\n",
    "nacionalidade = input()\n",
    "\n",
    "print (nome)\n",
    "print (idade, 'anos')\n",
    "print ('%.2f de altura'%(altura))\n",
    "print ('%.2f quilos'%(peso))\n",
    "print (nacionalidade)"
   ]
  },
  {
   "cell_type": "markdown",
   "metadata": {},
   "source": [
    "### Sequencia 3) Distancia\n",
    "\n",
    "    Faça um programa que leia dois pontos num espaço bidimensional e calcule a distância entre esses pontos\n",
    "    \n",
    "    ENTRADA: quatro números reais representando as 2 coordenadas (x,y) dos pontos\n",
    "    \n",
    "    SAIDA: frase representando a distância entre os pontos no formato\n",
    "        d = <dist>\n",
    "        \n",
    "    Obs 1: <dist> é um real com 2 casas decimais\n",
    "    Obs 2: a operação de potência de a por b (isto é, a^b) é dado por a**b no Python\n",
    "    Obs 3: uma raiz quadrada √𝑎 pode ser representada pela potência a^{1/2} = a^{0.5}"
   ]
  },
  {
   "cell_type": "code",
   "execution_count": 19,
   "metadata": {},
   "outputs": [
    {
     "name": "stdin",
     "output_type": "stream",
     "text": [
      " 1\n",
      " 2\n",
      " 6\n",
      " 4\n"
     ]
    },
    {
     "name": "stdout",
     "output_type": "stream",
     "text": [
      "d = 5.39\n"
     ]
    }
   ],
   "source": [
    "x1 = float(input())\n",
    "y1 = float(input())\n",
    "x2 = float(input())\n",
    "y2 = float(input())\n",
    "\n",
    "d=((x1-x2)**2+(y1-y2)**2)**(.5)\n",
    "\n",
    "print ('d = %.2f'%(d))"
   ]
  },
  {
   "cell_type": "markdown",
   "metadata": {},
   "source": [
    "### Sequencia 4) Media\n",
    "\n",
    "    Leia 3 valores, no caso, variáveis 𝐴, 𝐵 e 𝐶, que são as três notas de um aluno. A seguir, calcule a média do aluno, sabendo que a nota 𝐴 tem peso 2, a nota 𝐵 tem peso 3 e a nota 𝐶 tem peso 5. Considere que cada nota pode ir de 0 até 10.0.\n",
    "\n",
    "    ENTRADA: três números reais representando as 3 notas dos alunos\n",
    "\n",
    "    SAIDA: um número real (com uma casa decimal) representando a média ponderada do aluno"
   ]
  },
  {
   "cell_type": "code",
   "execution_count": 21,
   "metadata": {},
   "outputs": [
    {
     "name": "stdin",
     "output_type": "stream",
     "text": [
      " 3.3\n",
      " 5.8\n",
      " 7.0\n"
     ]
    },
    {
     "name": "stdout",
     "output_type": "stream",
     "text": [
      "5.9\n"
     ]
    }
   ],
   "source": [
    "A = float(input())\n",
    "B = float(input())\n",
    "C = float(input())\n",
    "\n",
    "m=(2*A+3*B+5*C)/10\n",
    "\n",
    "print ('%.1f'%(m))"
   ]
  },
  {
   "cell_type": "markdown",
   "metadata": {},
   "source": [
    "### Sequencia 5) Carros\n",
    "\n",
    "    Dois carros (𝑋 e 𝑌) partem em uma mesma direção. O carro 𝑋 sai com velocidade constante de 60 Km/h e o carro 𝑌 sai com velocidade constante de 90 Km/h. Em uma hora (60 minutos) o carro 𝑌 consegue se distanciar 30 quilômetros do carro 𝑋, ou seja, consegue se afastar um quilômetro a cada 2 minutos. Leia a distância (em Km) e calcule quanto tempo leva (em segundos) para o carro 𝑌 tomar essa distância do outro carro.\n",
    "\n",
    "    ENTRADA: um número inteiro representando a distância em quilômetros entre os dois carros\n",
    "\n",
    "    SAIDA: frase representando o tempo necessário para a distância entre os carros, definido por\n",
    "        <tempo> segundos\n",
    "\n",
    "    Obs: <tempo> é um real com 2 casas decimais."
   ]
  },
  {
   "cell_type": "code",
   "execution_count": 24,
   "metadata": {},
   "outputs": [
    {
     "name": "stdin",
     "output_type": "stream",
     "text": [
      " 7\n"
     ]
    },
    {
     "name": "stdout",
     "output_type": "stream",
     "text": [
      "840.00 segundos\n"
     ]
    }
   ],
   "source": [
    "dist = int(input())\n",
    "\n",
    "print ('%.2f segundos'%(dist*120))"
   ]
  },
  {
   "cell_type": "markdown",
   "metadata": {},
   "source": [
    "### Sequencia 6) Tomadas\n",
    "\n",
    "    Você vai viajar e planeja levar na viagem todos os seus vários equipamentos eletrônicos: celular, tablet, notebook, ponto de acesso wifi, câmeras, etc, e sabe que necessitará de várias tomadas de energia para conectar todos esses equipamentos. Você é informado de que ficará em um quarto de hotel que contém apenas uma tomada de energia disponível. Precavido, você comprou quatro réguas de tomadas, permitindo assim ligar vários aparelhos na única tomada do quarto de hotel. Você pode, também, ligar uma régua em outra para aumentar ainda mais o número de tomadas disponíveis.\n",
    "    No entanto, como as réguas têm muitas tomadas, você resolve escrever um programa que, dado o número de tomadas em cada régua, determine o número máximo de aparelhos que podem ser conectados à energia num mesmo instante.\n",
    "\n",
    "    ENTRADA: A entrada consiste de quatro números inteiros, indicando o número de tomadas de cada uma das quatro réguas\n",
    "\n",
    "    SAIDA: o número máximo (inteiro) de aparelhos que podem ser conectados à energia num mesmo instante. "
   ]
  },
  {
   "cell_type": "code",
   "execution_count": 26,
   "metadata": {},
   "outputs": [
    {
     "name": "stdin",
     "output_type": "stream",
     "text": [
      " 6\n",
      " 6\n",
      " 6\n",
      " 6\n"
     ]
    },
    {
     "name": "stdout",
     "output_type": "stream",
     "text": [
      "21\n"
     ]
    }
   ],
   "source": [
    "A = int(input())\n",
    "B = int(input())\n",
    "C = int(input())\n",
    "D = int(input())\n",
    "\n",
    "print (A+B+C+D-3)"
   ]
  },
  {
   "cell_type": "markdown",
   "metadata": {},
   "source": [
    "## Decisão\n",
    "Prazo de entrega: 20/10"
   ]
  },
  {
   "cell_type": "markdown",
   "metadata": {},
   "source": [
    "### Decisão 1) Calcular a área do cubo\n",
    "\n",
    "    Leia um valor que representa o tamanho do lado de um cubo. O programa deve imprimir o valor da área do cubo.\n",
    "\n",
    "    ENTRADA: Valor real\n",
    "\n",
    "    SAIDA: Valor real com duas casas decimais"
   ]
  },
  {
   "cell_type": "code",
   "execution_count": 1,
   "metadata": {},
   "outputs": [
    {
     "name": "stdin",
     "output_type": "stream",
     "text": [
      " 3.4\n"
     ]
    },
    {
     "name": "stdout",
     "output_type": "stream",
     "text": [
      "69.36\n"
     ]
    }
   ],
   "source": [
    "l = float(input())\n",
    "\n",
    "a=(l**2)*6\n",
    "\n",
    "print ('%.2f'%(a))"
   ]
  },
  {
   "cell_type": "markdown",
   "metadata": {},
   "source": [
    "### Decisão 2) Média, soma, produto, menor e maior\n",
    "\n",
    "    Escreva um programa que recebe três inteiros como entrada do teclado e escreva na tela a média, a soma, o produto, o menor valor e o maior valor, usando uma linha para cada resultado.\n",
    "\n",
    "    ENTRADA: três números inteiros\n",
    "\n",
    "    SAIDA: um número real com uma casa decimal (média) e 4 inteiros (soma, produto, menor, maior)"
   ]
  },
  {
   "cell_type": "code",
   "execution_count": 2,
   "metadata": {},
   "outputs": [
    {
     "name": "stdin",
     "output_type": "stream",
     "text": [
      " 3\n",
      " 0\n",
      " 6\n"
     ]
    },
    {
     "name": "stdout",
     "output_type": "stream",
     "text": [
      "3.0\n",
      "9\n",
      "0\n",
      "0\n",
      "6\n"
     ]
    }
   ],
   "source": [
    "n1 = int(input())\n",
    "n2 = int(input())\n",
    "n3 = int(input())\n",
    "\n",
    "print ('%.1f'%((n1+n2+n3)/3))\n",
    "\n",
    "print (n1+n2+n3)\n",
    "\n",
    "print (n1*n2*n3)\n",
    "\n",
    "if (n1 < n2) and (n1 < n3):\n",
    "    print (n1)\n",
    "else:\n",
    "    if (n2 < n3):\n",
    "        print (n2)\n",
    "    else:\n",
    "        print (n3)  \n",
    "\n",
    "if (n1 > n2) and (n1 > n3):\n",
    "    print (n1)\n",
    "else:\n",
    "    if (n2 > n3):\n",
    "        print (n2)\n",
    "    else:\n",
    "        print (n3)"
   ]
  },
  {
   "cell_type": "markdown",
   "metadata": {},
   "source": [
    "### Decisão 3) Loja de CDs\n",
    "\n",
    "    Em uma loja e CD´s existem apenas quatro tipos de preços que estão associados a cores.\n",
    "    Assim os CD´s que ficam na loja não são marcados por preços e sim por cores. Desenvolva o algoritmo que a partir a entrada da cor o software mostre o preço. A loja está atualmente com a seguinte tabela de preços.\n",
    "\n",
    "        Cor       Preço\n",
    "        Verde     R$ 10,00\n",
    "    Azul      R$ 20,00\n",
    "        Amarelo   R$ 30,00\n",
    "    Vermelho  R$ 40,00\n",
    "\n",
    "    ENTRADA: texto equivalente a cor do preço\n",
    "\n",
    "    SAIDA: a frase “Custo R$ X” onde X é um valor real com duas casas decimais\n"
   ]
  },
  {
   "cell_type": "code",
   "execution_count": 3,
   "metadata": {},
   "outputs": [
    {
     "name": "stdin",
     "output_type": "stream",
     "text": [
      " Verde\n"
     ]
    },
    {
     "name": "stdout",
     "output_type": "stream",
     "text": [
      "Custo R$ 10,00\n"
     ]
    }
   ],
   "source": [
    "cor = input()\n",
    "\n",
    "if (cor == 'Verde'):\n",
    "    print ('Custo R$ 10,00')\n",
    "\n",
    "if (cor == 'Azul'):\n",
    "    print ('Custo R$ 20,00')\n",
    "\n",
    "if (cor == 'Amarelo'):\n",
    "    print ('Custo R$ 30,00')\n",
    "\n",
    "if (cor == 'Vermelho'):\n",
    "    print ('Custo R$ 40,00')"
   ]
  },
  {
   "cell_type": "markdown",
   "metadata": {},
   "source": [
    "### Decisão 4) 3 números\n",
    "\n",
    "    Escreva um programa que recebe três números e retorna a soma deles, porém se houver números repetidos o valor deles não é contabilizado.\n",
    "    \n",
    "    ENTRADA: três números inteiros\n",
    "\n",
    "    SAIDA: um número inteiro representando a soma de números não repetidos\n"
   ]
  },
  {
   "cell_type": "code",
   "execution_count": 4,
   "metadata": {},
   "outputs": [
    {
     "name": "stdin",
     "output_type": "stream",
     "text": [
      " 3\n",
      " 2\n",
      " 3\n"
     ]
    },
    {
     "name": "stdout",
     "output_type": "stream",
     "text": [
      "2\n"
     ]
    }
   ],
   "source": [
    "n1 = int(input())\n",
    "n2 = int(input())\n",
    "n3 = int(input())\n",
    "\n",
    "if (n1 == n2) and (n1==n3):\n",
    "    print (0)\n",
    "else:\n",
    "    if (n1 == n2):\n",
    "        print (n3)\n",
    "    else:\n",
    "        if (n1 == n3):\n",
    "            print (n2)\n",
    "        else:\n",
    "            if (n2 == n3):\n",
    "                print (n1)\n",
    "            else:\n",
    "                print (n1+n2+n3)"
   ]
  },
  {
   "cell_type": "markdown",
   "metadata": {},
   "source": [
    "### Decisão 5) 3 números (2)\n",
    "\n",
    "    Escreva um programa que receba três números. O programa deve imprimir a palavra “soma” se a soma de dois deles for igual ao outro número, caso contrário, o programa deve imprimir a palavra “multi” se a multiplicação de dois deles for igual ao outro número. Caso nenhuma das duas possibilidades for verdade, então imprimir a palavra “par” se a soma dos três números for par, e imprimir a palavra “ímpar” caso contrário.\n",
    "    \n",
    "    ENTRADA: três números inteiros\n",
    "    \n",
    "    SAIDA: palavra (soma,multi, par ou ímpar) equivalente a resposta\n"
   ]
  },
  {
   "cell_type": "code",
   "execution_count": 5,
   "metadata": {},
   "outputs": [
    {
     "name": "stdin",
     "output_type": "stream",
     "text": [
      " 8\n",
      " 3\n",
      " 5\n"
     ]
    },
    {
     "name": "stdout",
     "output_type": "stream",
     "text": [
      "soma\n"
     ]
    }
   ],
   "source": [
    "n1 = int(input())\n",
    "n2 = int(input())\n",
    "n3 = int(input())\n",
    "\n",
    "if (n1+n2 == n3) or (n1+n3 == n2) or (n2+n3 == n1):\n",
    "    print ('soma')\n",
    "else:\n",
    "    if (n1*n2 == n3) or (n1*n3 == n2) or (n2*n3 == n1):\n",
    "        print ('multi')\n",
    "    else:\n",
    "        if ((n1+n2+n3)%2 == 0):\n",
    "            print ('par')\n",
    "        else:\n",
    "            print ('ímpar')"
   ]
  },
  {
   "cell_type": "markdown",
   "metadata": {},
   "source": [
    "### Decisão 6) Triangulos\n",
    "\n",
    "    Faça um programa que leia três coordenadas num espaço 2D e indique se formam um triângulo, juntamente com o seu tipo (equilátero, isósceles e escaleno):\n",
    "    \n",
    "        • equilátero: todos os lados de tamanhos iguais\n",
    "        • isósceles: dois lados de tamanhos iguais\n",
    "        • escaleno: todos os lados de tamanhos diferentes\n",
    "        \n",
    "    Condição de existência) um triângulo com lados de tamanho a,b,c existe se :\n",
    "    \n",
    "        | b - c | < a < b + c\n",
    "        | a - c | < b < a + c\n",
    "        | a - b | < c < a + b\n",
    "        \n",
    "    ENTRADA: seis números reais representando 3 coordenadas (x,y) no espaço 2D\n",
    "    \n",
    "    SAIDA: texto indicando o tipo do triangulo (equilátero,isósceles, escaleno ou inexistente)\n"
   ]
  },
  {
   "cell_type": "code",
   "execution_count": 6,
   "metadata": {},
   "outputs": [
    {
     "name": "stdin",
     "output_type": "stream",
     "text": [
      " 1\n",
      " 3\n",
      " -5\n",
      " -6\n",
      " -2\n",
      " -1.5\n"
     ]
    },
    {
     "name": "stdout",
     "output_type": "stream",
     "text": [
      "inexistente\n"
     ]
    }
   ],
   "source": [
    "import math\n",
    "\n",
    "x1 = float(input())\n",
    "y1 = float(input())\n",
    "x2 = float(input())\n",
    "y2 = float(input())\n",
    "x3 = float(input())\n",
    "y3 = float(input())\n",
    "\n",
    "a = math.sqrt((x1-x2)**2+(y1-y2)**2)\n",
    "b = math.sqrt((x1-x3)**2+(y1-y3)**2)\n",
    "c = math.sqrt((x2-x3)**2+(y2-y3)**2)\n",
    "\n",
    "if (math.fabs(b-c)<a<(b+c)) and (math.fabs(a-c)<b<(a+c)) and (math.fabs(a-b)<c<(a+b)):\n",
    "    if (a==b) and (a==c):\n",
    "        print('equilátero')\n",
    "    else:\n",
    "        if (a==b) or (a==c) or (b==c):\n",
    "            print('isósceles')\n",
    "        else:\n",
    "            print('escaleno')\n",
    "else:\n",
    "    print('inexistente')"
   ]
  },
  {
   "cell_type": "markdown",
   "metadata": {},
   "source": [
    "## Repetição Condicional\n",
    "Prazo de entrega: 27/10"
   ]
  },
  {
   "cell_type": "markdown",
   "metadata": {},
   "source": [
    "### Rep. Cond. 1) Somador\n",
    "\n",
    "    Faça um programa que receba números inteiros e calcule a soma desses números, até que seja fornecido o número 0.\n",
    "    \n",
    "    ENTRADA: números inteiros\n",
    "\n",
    "    SAIDA: número inteiro representando a soma dos números informados"
   ]
  },
  {
   "cell_type": "code",
   "execution_count": 4,
   "metadata": {},
   "outputs": [
    {
     "name": "stdin",
     "output_type": "stream",
     "text": [
      " 1\n",
      " 2\n",
      " 3\n",
      " 0\n"
     ]
    },
    {
     "name": "stdout",
     "output_type": "stream",
     "text": [
      "6\n"
     ]
    }
   ],
   "source": [
    "n = int(input())\n",
    "soma = n\n",
    "\n",
    "while n != 0:\n",
    "    n = int(input())    \n",
    "    soma += n\n",
    "    \n",
    "print(soma)"
   ]
  },
  {
   "cell_type": "markdown",
   "metadata": {},
   "source": [
    "### Rep. Cond. 2) Médias\n",
    "\n",
    "    Faça um programa que irá somar a média de X alunos. O programa recebe primeiro um número X de alunos, e para cada um desses alunos, irá receber 2 notas, onde a média dessas duas notas será somada (para cada aluno) e apresentada no final a soma das médias dos X alunos.\n",
    "    \n",
    "    ENTRADA: número X (inteiro) de alunos, seguido por 2X notas (reais) representando as notas dos alunos\n",
    "\n",
    "    SAIDA: número (real com 2 casas decimais) representando a soma das médias\n"
   ]
  },
  {
   "cell_type": "code",
   "execution_count": 7,
   "metadata": {},
   "outputs": [
    {
     "name": "stdin",
     "output_type": "stream",
     "text": [
      " 2\n",
      " 7.6\n",
      " 8.3\n",
      " 3.2\n",
      " 2.5\n"
     ]
    },
    {
     "name": "stdout",
     "output_type": "stream",
     "text": [
      "10.80\n"
     ]
    }
   ],
   "source": [
    "alunos = int(input())\n",
    "i=1\n",
    "soma = 0\n",
    "\n",
    "while i <= alunos:\n",
    "    n1 = float(input())\n",
    "    n2 = float(input())\n",
    "    media = (n1+n2)/2\n",
    "    soma += media\n",
    "    i += 1\n",
    "\n",
    "print('%.2f'%(soma))"
   ]
  },
  {
   "cell_type": "markdown",
   "metadata": {},
   "source": [
    "### Rep. Cond. 3) Somador 2\n",
    "\n",
    "    Faça um programa que receba números inteiros e calcule a soma desses números, até que seja fornecido novamente o primeiro número fornecido desta soma. Neste caso o programa soma novamente este primeiro número, para, e imprime a soma.\n",
    "    \n",
    "    ENTRADA: números inteiros\n",
    "\n",
    "    SAIDA: número inteiro representando a soma dos números informados"
   ]
  },
  {
   "cell_type": "code",
   "execution_count": 16,
   "metadata": {},
   "outputs": [
    {
     "name": "stdin",
     "output_type": "stream",
     "text": [
      " 3\n",
      " 2\n",
      " 1\n",
      " 3\n"
     ]
    },
    {
     "name": "stdout",
     "output_type": "stream",
     "text": [
      "9\n"
     ]
    }
   ],
   "source": [
    "x = int(input()) \n",
    "n = x+1\n",
    "soma = x\n",
    "\n",
    "while n != x:\n",
    "    n = int(input())    \n",
    "    soma += n\n",
    "    \n",
    "print(soma)"
   ]
  },
  {
   "cell_type": "markdown",
   "metadata": {},
   "source": [
    "### Rep. Cond. 4) PokemonGo\n",
    "\n",
    "    Suponha que um jogador A de PokemonGO tenha X pokemons com uma taxa anual de crescimento/captura de 50% e que o jogador B tem Y pokemons com uma taxa de crescimento/captura de 30%.\n",
    "    \n",
    "    Vamos assumir que (pode acreditar):\n",
    "\n",
    "        - X < Y\n",
    "        - X >= 2\n",
    "        - A quantidade de pokemons capturada por ano é inteira, que dizer, por exemplo, se eu tenho 123 pokemons e tenho uma taxa de captura de 30% no ano, então em um ano ireicapturar 47 pokemons pois 30% de 123 é 47.70 (pegamos só a parte inteira ou piso).\n",
    "\n",
    "    Faça um programa que calcule e retorne o número de anos necessários para que o jogador A ultrapasse ou iguale o número de pokemons do jogador B, mantidas as taxas de crescimento\n",
    "\n",
    "    ENTRADA: números inteiros X e Y indicando o número inicial de pokemons do jogador A e B respectivamente.\n",
    "\n",
    "    SAIDA: número de anos (inteiro) para que A ultrapasse ou iguale B"
   ]
  },
  {
   "cell_type": "code",
   "execution_count": 20,
   "metadata": {},
   "outputs": [
    {
     "name": "stdin",
     "output_type": "stream",
     "text": [
      " 50\n",
      " 100\n"
     ]
    },
    {
     "name": "stdout",
     "output_type": "stream",
     "text": [
      "5\n"
     ]
    }
   ],
   "source": [
    "X = int(input())\n",
    "Y = int(input())\n",
    "ano = 0\n",
    "\n",
    "while X < Y:\n",
    "    X = int(X*1.5)\n",
    "    Y = int(Y*1.3)\n",
    "    ano += 1\n",
    "\n",
    "print(ano)"
   ]
  },
  {
   "cell_type": "markdown",
   "metadata": {},
   "source": [
    "### Rep. Cond. 5) Ordem\n",
    "\n",
    "    Fazer um programa que lê N números inteiros do teclado, e no final informa se os números lidos estão ou não em ordem crescente.\n",
    "    \n",
    "    Vamos assumir que (pode acreditar):\n",
    "\n",
    "        - N >= 2\n",
    "\n",
    "    Dica: guarde sempre o número anterior fornecido.\n",
    "\n",
    "    ENTRADA: número inteiro N, seguido de N números inteiros\n",
    "\n",
    "    SAIDA: “sim” se os números estão em ordem crescente e “não” caso contrário"
   ]
  },
  {
   "cell_type": "code",
   "execution_count": 4,
   "metadata": {},
   "outputs": [
    {
     "name": "stdin",
     "output_type": "stream",
     "text": [
      " 4\n",
      " 23\n",
      " 42\n",
      " 42\n",
      " 101\n"
     ]
    },
    {
     "name": "stdout",
     "output_type": "stream",
     "text": [
      "sim\n"
     ]
    }
   ],
   "source": [
    "N = int(input())\n",
    "n1 = int(input())\n",
    "cond = 'sim'\n",
    "i = 1\n",
    "\n",
    "while i < N:\n",
    "    n2 = int(input())\n",
    "    if (n2 < n1):\n",
    "        cond = 'não'\n",
    "    n1 = n2\n",
    "    i += 1\n",
    "\n",
    "print(cond)"
   ]
  },
  {
   "cell_type": "markdown",
   "metadata": {},
   "source": [
    "### Rep. Cond. 6) Pedra Papel Tesoura e mais\n",
    "\n",
    "    Faça um jogo de pedra, papel, tesoura, spock e lagarto (de onde vem isso?), onde dois jogadores escolhem entre “0-pedra 1-spock 2-paper 3-lagarto 4-tesoura”. Serão disputadas 3 partidas e o programa deve informar quantas vezes cada jogador ganhou e quantas vezes deu empate.\n",
    "    \n",
    "    OBS: A ordem de vitória (quem ganha de quem) está descrita na figura no fim do texto.\n",
    "\n",
    "    ENTRADA: 6 números (inteiros) representando as jogadas alternadas dos jogadores 1 e 2, isto é, o primeiro número é a jogada 1 do jogador 1, o segundo número é a jogada 1 do jogador 2, e assim por diante.\n",
    "\n",
    "    SAIDA: 3 números inteiros (um em cada linha) indicando o número de vitórias do jogador 1, o número de vitórias do jogador 2 e o número de empates."
   ]
  },
  {
   "cell_type": "code",
   "execution_count": 10,
   "metadata": {},
   "outputs": [
    {
     "name": "stdin",
     "output_type": "stream",
     "text": [
      " 3\n",
      " 2\n",
      " 4\n",
      " 1\n",
      " 0\n",
      " 3\n"
     ]
    },
    {
     "name": "stdout",
     "output_type": "stream",
     "text": [
      "2\n",
      "1\n",
      "0\n"
     ]
    }
   ],
   "source": [
    "x  = 3\n",
    "i  = 1\n",
    "\n",
    "vj1 = 0\n",
    "vj2 = 0\n",
    "emp = 0\n",
    "\n",
    "while i <= x:\n",
    "    \n",
    "    j1 = int(input())\n",
    "    j2 = int(input())\n",
    "    \n",
    "    if (j1 == j2):\n",
    "        emp += 1\n",
    "    else:    \n",
    "        #regras do jogo: 0-pedra 1-spock 2-paper 3-lagarto 4-tesoura\n",
    "        if (j1 == 0):\n",
    "            if (j2==1):\n",
    "                vj2 += 1\n",
    "            if (j2==2):\n",
    "                vj2 += 1\n",
    "            if (j2==3):\n",
    "                vj1 += 1\n",
    "            if (j2==4):\n",
    "                vj1 += 1\n",
    "        if (j1 == 1):\n",
    "            if (j2==0):\n",
    "                vj1 += 1\n",
    "            if (j2==2):\n",
    "                vj2 += 1\n",
    "            if (j2==3):\n",
    "                vj2 += 1\n",
    "            if (j2==4):\n",
    "                vj1 += 1\n",
    "        if (j1 == 2):\n",
    "            if (j2==0):\n",
    "                vj1 += 1\n",
    "            if (j2==1):\n",
    "                vj1 += 1\n",
    "            if (j2==3):\n",
    "                vj2 += 1\n",
    "            if (j2==4):\n",
    "                vj2 += 1\n",
    "        if (j1 == 3):\n",
    "            if (j2==0):\n",
    "                vj2 += 1\n",
    "            if (j2==1):\n",
    "                vj1 += 1\n",
    "            if (j2==2):\n",
    "                vj1 += 1\n",
    "            if (j2==4):\n",
    "                vj2 += 1\n",
    "        if (j1 == 4):\n",
    "            if (j2==0):\n",
    "                vj2 += 1\n",
    "            if (j2==1):\n",
    "                vj2 += 1\n",
    "            if (j2==2):\n",
    "                vj1 += 1\n",
    "            if (j2==3):\n",
    "                vj1 += 1\n",
    "                \n",
    "    i +=1\n",
    "\n",
    "print(vj1)\n",
    "print(vj2)\n",
    "print(emp)    "
   ]
  },
  {
   "cell_type": "markdown",
   "metadata": {},
   "source": [
    "## Repetição Contável\n",
    "Prazo de entrega: 03/11"
   ]
  },
  {
   "cell_type": "markdown",
   "metadata": {},
   "source": [
    "### Rep. Cont. 1) Números\n",
    "\n",
    "    Escreva um programa que permita que o usuário indique um número de inteiros N a serem lidos (os N números fornecidos estão entre 0 e 100, pode acreditar). Após a leitura dos N números, escreva na tela a média, a soma, o produto, o menor valor e o maior valor. Utilizar laços contáveis.\n",
    "    \n",
    "    ENTRADA: número N (inteiro), seguido por N números (inteiros) entre 0 e 100 (pode acreditar)\n",
    "\n",
    "    SAIDA: 5 números (real, inteiro, inteiro, inteiro e inteiro), um por linha, representando a média , a soma, o produto, o menor valor e o maior valor. O número real terá duas casas decimais\n"
   ]
  },
  {
   "cell_type": "code",
   "execution_count": 15,
   "metadata": {},
   "outputs": [
    {
     "name": "stdin",
     "output_type": "stream",
     "text": [
      " 4\n",
      " 2\n",
      " 7\n",
      " 5\n",
      " 11\n"
     ]
    },
    {
     "name": "stdout",
     "output_type": "stream",
     "text": [
      "6.25\n",
      "25\n",
      "770\n",
      "2\n",
      "11\n"
     ]
    }
   ],
   "source": [
    "N = int(input())\n",
    "\n",
    "soma  = 0\n",
    "prod  = 1\n",
    "menor = 100\n",
    "maior = 0\n",
    "\n",
    "for _ in range (N):\n",
    "    \n",
    "    x = int(input())\n",
    "    \n",
    "    soma += x\n",
    "    prod *= x    \n",
    "    \n",
    "    if x < (menor):\n",
    "        menor = x\n",
    "    if x > (maior):\n",
    "        maior = x\n",
    "\n",
    "print ('%.2f'%(soma/N))\n",
    "print (soma)\n",
    "print (prod)\n",
    "print (menor)\n",
    "print (maior)"
   ]
  },
  {
   "cell_type": "markdown",
   "metadata": {},
   "source": [
    "### Rep. Cont. 2) Números 2\n",
    "\n",
    "    Escreva um programa que permita que o usuário indique um número de inteiros N a serem lidos (agora podem ter qualquer valor inteiro não limitado). Após a leitura dos N números, escreva na tela a média, a soma, o produto, o menor valor e o maior valor. Utilizar laços contáveis.\n",
    "    \n",
    "    ENTRADA: número N (inteiro), seguido por N números (inteiros).\n",
    "\n",
    "    SAIDA: 5 números (real, inteiro, inteiro, inteiro e inteiro), um por linha, representando a média , a soma, o produto, o menor valor e o maior valor. O número real terá duas casas decimais\n"
   ]
  },
  {
   "cell_type": "code",
   "execution_count": 25,
   "metadata": {},
   "outputs": [
    {
     "name": "stdin",
     "output_type": "stream",
     "text": [
      " 2\n",
      " 5\n",
      " 7\n"
     ]
    },
    {
     "name": "stdout",
     "output_type": "stream",
     "text": [
      "6.00\n",
      "12\n",
      "35\n",
      "5\n",
      "7\n"
     ]
    }
   ],
   "source": [
    "N = int(input())\n",
    "\n",
    "x = int(input())    \n",
    "soma = prod = menor = maior = x\n",
    "\n",
    "for _ in range (N-1):\n",
    "    \n",
    "    x = int(input())\n",
    "    \n",
    "    soma += x\n",
    "    prod *= x    \n",
    "    \n",
    "    if x < (menor):\n",
    "        menor = x\n",
    "    if x > (maior):\n",
    "        maior = x\n",
    "\n",
    "print ('%.2f'%(soma/N))\n",
    "print (soma)\n",
    "print (prod)\n",
    "print (menor)\n",
    "print (maior)"
   ]
  },
  {
   "cell_type": "markdown",
   "metadata": {},
   "source": [
    "### Rep. Cont. 3) Cubos\n",
    "\n",
    "    Determinar todos os números de 3 algarismos, cujas somas dos cubos dos algarismos sejam iguais ao próprio número. Exemplo: 153 = 1**3 + 5**3 + 3**3.\n",
    "    \n",
    "    ENTRADA: NÃO TEM ENTRADA\n",
    "\n",
    "    SAIDA: número(s) (inteiros), um por linha, de três algarismos que tenham a propriedade"
   ]
  },
  {
   "cell_type": "code",
   "execution_count": 27,
   "metadata": {},
   "outputs": [
    {
     "name": "stdout",
     "output_type": "stream",
     "text": [
      "153\n",
      "370\n",
      "371\n",
      "407\n"
     ]
    }
   ],
   "source": [
    "for i in range (100, 1000):\n",
    "    \n",
    "    c = int(i/100)\n",
    "    d = int((i-c*100)/10)\n",
    "    u = int(i-d*10-c*100)\n",
    "    \n",
    "    if(c**3 + d**3 + u**3 == i):\n",
    "        print(i)"
   ]
  },
  {
   "cell_type": "markdown",
   "metadata": {},
   "source": [
    "### Rep. Cont. 4) Triangular\n",
    "\n",
    "    Um número inteiro é considerado triangular se este for o produto de 3 números inteiros consecutivos. Elabore um programa que, após ler um número do teclado, verifique se ele é triangular ou não.\n",
    "    \n",
    "    ENTRADA: número inteiro\n",
    "\n",
    "    SAIDA: palavra “não” se o número não for triangular. Caso contrário, imprimir os três inteiros que definem o número triangular (um em cada linha)."
   ]
  },
  {
   "cell_type": "code",
   "execution_count": 31,
   "metadata": {},
   "outputs": [
    {
     "name": "stdin",
     "output_type": "stream",
     "text": [
      " 6\n"
     ]
    },
    {
     "name": "stdout",
     "output_type": "stream",
     "text": [
      "1\n",
      "2\n",
      "3\n"
     ]
    }
   ],
   "source": [
    "n = int(input())\n",
    "x = 0\n",
    "\n",
    "for i in range (int(n/2)):\n",
    "    \n",
    "    if (i*(i+1)*(i+2) == n):\n",
    "        x=1\n",
    "        print(i)\n",
    "        print(i+1)\n",
    "        print(i+2)\n",
    "\n",
    "if x==0:\n",
    "    print (\"não\")"
   ]
  },
  {
   "cell_type": "markdown",
   "metadata": {},
   "source": [
    "### Rep. Cont. 5) Séries\n",
    "\n",
    "    Dado um número N (positivo, pode acreditar), calcula a soma dos primeiros 50 termos da série: S = (1+N) + (5 * N) + (9 + N) + (13 * N) + (17 + N) + ...\n",
    "    \n",
    "    ENTRADA: Número inteiro N\n",
    "\n",
    "    SAIDA: número inteiro representando a soma"
   ]
  },
  {
   "cell_type": "code",
   "execution_count": 34,
   "metadata": {},
   "outputs": [
    {
     "name": "stdin",
     "output_type": "stream",
     "text": [
      " 3\n"
     ]
    },
    {
     "name": "stdout",
     "output_type": "stream",
     "text": [
      "10075\n"
     ]
    }
   ],
   "source": [
    "N = int(input())\n",
    "S = i = 0\n",
    "\n",
    "for x in range (1,201,4):\n",
    "    \n",
    "    i += 1\n",
    "    \n",
    "    if i%2 != 0:\n",
    "        S += x+N\n",
    "    else:\n",
    "        S += x*N\n",
    "        \n",
    "print (S)        "
   ]
  },
  {
   "cell_type": "markdown",
   "metadata": {},
   "source": [
    "### Rep. Cont. 6) Séries 2\n",
    "\n",
    "    Faça um programa que calcule e escreva a soma dos 100 primeiros termos da série a seguir:\n",
    "    \n",
    "$S = X + \\frac{3X}{7} - \\frac{8X}{9} + \\frac{13X}{11} - \\frac{18X}{13} + \\dots$\n",
    "\n",
    "    Onde o valor de X é inteiro e fornecido pelo usuário.\n",
    "\n",
    "    ENTRADA: Número inteiro X\n",
    "\n",
    "    SAIDA: número (real com 3 casas decimais) representando a soma dos 100 primeiros termos da série. "
   ]
  },
  {
   "cell_type": "code",
   "execution_count": 46,
   "metadata": {},
   "outputs": [
    {
     "name": "stdin",
     "output_type": "stream",
     "text": [
      " 32\n"
     ]
    },
    {
     "name": "stdout",
     "output_type": "stream",
     "text": [
      "73.154\n"
     ]
    }
   ],
   "source": [
    "X = int(input())\n",
    "S = X\n",
    "i = 2\n",
    "\n",
    "for n in range (3,498,5):\n",
    "    \n",
    "    i += 1\n",
    "    \n",
    "    if i%2 != 0:\n",
    "        S += (n*X)/(2*i+1)\n",
    "    else:\n",
    "        S -= (n*X)/(2*i+1)\n",
    "        \n",
    "print ('%.3f'%S)"
   ]
  },
  {
   "cell_type": "markdown",
   "metadata": {},
   "source": [
    "### Rep. Cont. 7) Séries 3\n",
    "\n",
    "    Faça um programa que receba um número inteiro X e imprima os primeiros X números da série de Fibonacci. A série de Fibonacci é definida da seguinte forma: os dois primeiros elementos são 0 e 1, a partir daí o número posterior é formado pela soma dos dois anteriores. Por exemplo, o próximo número da série será 0+1=1, depois, 1+1=2, 1+2=3, e assim por diante     \n",
    "    \n",
    "    Série de Fibonacci:\n",
    "    0,1, 1, 2, 3, 5, 8, 13, 21, 34, 55, 89, 144, 233, 377, 610, 987, 1597, 2584, ...\n",
    "\n",
    "    ENTRADA: Número inteiro X (onde X >= 1, pode acreditar)\n",
    "\n",
    "    SAIDA: conjunto de números inteiros (um por linha) representando os números da série de Fibonacci\n"
   ]
  },
  {
   "cell_type": "code",
   "execution_count": 62,
   "metadata": {},
   "outputs": [
    {
     "name": "stdin",
     "output_type": "stream",
     "text": [
      " 7\n"
     ]
    },
    {
     "name": "stdout",
     "output_type": "stream",
     "text": [
      "0\n",
      "1\n",
      "1\n",
      "2\n",
      "3\n",
      "5\n",
      "8\n"
     ]
    }
   ],
   "source": [
    "X = int(input())\n",
    "\n",
    "for i in range (0,X):\n",
    "    \n",
    "    if i == 0:\n",
    "        x0 = 0\n",
    "        print(x0)\n",
    "    else:    \n",
    "        if i == 1:\n",
    "            x1 = 1\n",
    "            print(x1)\n",
    "        else:\n",
    "            x2 = x0+x1\n",
    "            x0 = x1\n",
    "            x1 = x2\n",
    "            print(x2)"
   ]
  },
  {
   "cell_type": "markdown",
   "metadata": {},
   "source": [
    "## Repetição de Laços Aninhados\n",
    "Prazo de entrega: 10/11"
   ]
  },
  {
   "cell_type": "markdown",
   "metadata": {},
   "source": [
    "### Rep. Ani. 0) Primos\n",
    "\n",
    "    Faça um programa que receba dois inteiros A e B e imprima todos os números primos entre os números A e B (incluindo A e B)\n",
    "    \n",
    "    ENTRADA: números inteiros A e B onde 1<= A<= B (Pode acreditar)\n",
    "\n",
    "    SAIDA: número(s) (inteiros), um por linha, indicando os números primos entre A e B"
   ]
  },
  {
   "cell_type": "code",
   "execution_count": 72,
   "metadata": {},
   "outputs": [
    {
     "name": "stdin",
     "output_type": "stream",
     "text": [
      " 1\n",
      " 10\n"
     ]
    },
    {
     "name": "stdout",
     "output_type": "stream",
     "text": [
      "1\n",
      "2\n",
      "3\n",
      "5\n",
      "7\n"
     ]
    }
   ],
   "source": [
    "A = int(input())\n",
    "B = int(input())\n",
    "\n",
    "for i in range (A,B+1):\n",
    "    primo = 0\n",
    "    for j in range (2,int(i/2)+1):\n",
    "        if (i%j == 0):\n",
    "            primo = 1\n",
    "            \n",
    "    if primo == 0:\n",
    "        print(i)        "
   ]
  },
  {
   "cell_type": "markdown",
   "metadata": {},
   "source": [
    "### Rep. Ani. 0.5) Saitama\n",
    "\n",
    "    Calcule a soma da série S de Saitama, dado valores inteiros n e m fornecidos pelo usuário. No fim, pergunte se o usuário quer repetir a operação.\n",
    "    \n",
    "$S=\\sum_{i=1}^{n}\\sum_{j=1}^{m} \\frac{i^2 \\; j}{3^i(j \\; 3^i+i \\; 3^j)}$\n",
    "\n",
    "    ENTRADA: números inteiros n e m onde 1 <= n,m (Pode acreditar)\n",
    "\n",
    "    SAIDA: número real (4 casas decimais) representando o valor da soma da série\n",
    "    \n"
   ]
  },
  {
   "cell_type": "code",
   "execution_count": 75,
   "metadata": {},
   "outputs": [
    {
     "name": "stdin",
     "output_type": "stream",
     "text": [
      " 15\n",
      " 5\n"
     ]
    },
    {
     "name": "stdout",
     "output_type": "stream",
     "text": [
      "0.2717\n"
     ]
    }
   ],
   "source": [
    "n = int(input())\n",
    "m = int(input())\n",
    "S = 0\n",
    "\n",
    "for i in range (1,n+1):\n",
    "    for j in range (1,m+1):\n",
    "        S += (i**2 * j)/(3**i * (j * 3**i + i * 3**j))\n",
    "        \n",
    "print ('%.4f'%S)\n",
    "\n",
    "#não estou perguntando..."
   ]
  },
  {
   "cell_type": "markdown",
   "metadata": {},
   "source": [
    "### Rep. Ani. 1) Seya\n",
    "\n",
    "    Faça um programa que calcula os primeiros X números da Santa série de Seiya (X inteiro positivo fornecido pelo usuário). A série santificada de Seiya inicia com os números 1 e 2, e cada número posterior equivale à multiplicação dos dois números anteriores, mais 1. Por exemplo, caso o usuário informe X=6, o resultado seria: 1, 2, 3, 7, 22, 155. No final, receba mais um inteiro R para informar se o usuário quer repetir o processo (onde R será 1-sim, 2-não).\n",
    "    \n",
    "    ENTRADA: um número par de inteiros indicando o número de elementos da série impressos (X>=1) e o inteiro indicando se o processo será repetido (R=1 ou R=2).\n",
    "\n",
    "    SAIDA: número(s) (inteiros), um por linha, indicando a(s) saída(s) da(s) série(s).\n"
   ]
  },
  {
   "cell_type": "code",
   "execution_count": 79,
   "metadata": {},
   "outputs": [
    {
     "name": "stdin",
     "output_type": "stream",
     "text": [
      " 4\n"
     ]
    },
    {
     "name": "stdout",
     "output_type": "stream",
     "text": [
      "1\n",
      "2\n",
      "3\n",
      "7\n"
     ]
    },
    {
     "name": "stdin",
     "output_type": "stream",
     "text": [
      " 1\n",
      " 6\n"
     ]
    },
    {
     "name": "stdout",
     "output_type": "stream",
     "text": [
      "1\n",
      "2\n",
      "3\n",
      "7\n",
      "22\n",
      "155\n"
     ]
    },
    {
     "name": "stdin",
     "output_type": "stream",
     "text": [
      " 2\n"
     ]
    }
   ],
   "source": [
    "R=1\n",
    "\n",
    "while R == 1:\n",
    "    X = int(input())\n",
    "\n",
    "    for i in range (0,X):\n",
    "\n",
    "        if i == 0:\n",
    "            x0 = 1\n",
    "            print(x0)\n",
    "        else:    \n",
    "            if i == 1:\n",
    "                x1 = 2\n",
    "                print(x1)\n",
    "            else:\n",
    "                x2 = x0*x1+1\n",
    "                x0 = x1\n",
    "                x1 = x2\n",
    "                print(x2)\n",
    "                \n",
    "    R = int(input())"
   ]
  },
  {
   "cell_type": "markdown",
   "metadata": {},
   "source": [
    "### Rep. Ani. 2) Primuxos\n",
    "\n",
    "    Faça um programa que receba dois inteiros A e B e imprima todos os números PRIMUXOS entre os números A e B (incluindo A e B). Um número é primuxo se ele for primo e a soma de seus dígitos é um número par. Ex: 31 é um número primuxo já que é primo e 3+1=4 é par.\n",
    "    \n",
    "    ENTRADA: números inteiros A e B onde 1<= A <= B <= 999 (Pode acreditar)\n",
    "\n",
    "    SAIDA: número(s) (inteiros), um por linha, indicando os números primuxosB"
   ]
  },
  {
   "cell_type": "code",
   "execution_count": 86,
   "metadata": {},
   "outputs": [
    {
     "name": "stdin",
     "output_type": "stream",
     "text": [
      " 1\n",
      " 15\n"
     ]
    },
    {
     "name": "stdout",
     "output_type": "stream",
     "text": [
      "2\n",
      "11\n",
      "13\n"
     ]
    }
   ],
   "source": [
    "A = int(input())\n",
    "B = int(input())\n",
    "\n",
    "for i in range (A,B+1):\n",
    "    primo = 0\n",
    "    for j in range (2,int(i/2)+1):\n",
    "        if (i%j == 0):\n",
    "            primo = 1\n",
    "            \n",
    "    if primo == 0:\n",
    "        c = int(i/100)\n",
    "        d = int((i-c*100)/10)\n",
    "        u = int(i-d*10-c*100)\n",
    "        \n",
    "        if (c+d+u)%2 == 0:        \n",
    "            print(i)"
   ]
  },
  {
   "cell_type": "markdown",
   "metadata": {},
   "source": [
    "## Vetores\n",
    "Prazo de entrega: 17/11"
   ]
  },
  {
   "cell_type": "markdown",
   "metadata": {},
   "source": [
    "### Vetores 1) Localiza\n",
    "\n",
    "    Faça um programa que receba um conjunto de 10 elementos numéricos e os armazene em uma lista (vetor). Em seguida, o programa deverá procurar se existem no vetor elementos iguais a um dado valor também informado pelo usuário e imprimir o índice das posições em que estes são encontrados.\n",
    "    \n",
    "    ENTRADA: 10 números inteiros e mais um número inteiro indicando o número a ser procurado\n",
    "\n",
    "    SAIDA: vetor de inteiros indicando as posições em que o número foi encontrado no vetor."
   ]
  },
  {
   "cell_type": "code",
   "execution_count": 89,
   "metadata": {},
   "outputs": [
    {
     "name": "stdin",
     "output_type": "stream",
     "text": [
      " 5\n",
      " 12\n",
      " 34\n",
      " 12\n",
      " 5\n",
      " 55\n",
      " 6\n",
      " 0\n",
      " 37\n",
      " 101\n",
      " 5\n"
     ]
    },
    {
     "name": "stdout",
     "output_type": "stream",
     "text": [
      "[0, 4]\n"
     ]
    }
   ],
   "source": [
    "vetor = []\n",
    "\n",
    "for _ in range (10):\n",
    "    vetor.append(int(input()))\n",
    "    \n",
    "n = int(input())\n",
    "pos = []\n",
    "\n",
    "for i in range (10):\n",
    "    if vetor[i] == n:\n",
    "        pos.append(i)\n",
    "\n",
    "print(pos)"
   ]
  },
  {
   "cell_type": "markdown",
   "metadata": {},
   "source": [
    "### Vetores 2) Locadora\n",
    "\n",
    "    Uma locadora de videogame tem guardada, em uma lista de 10 posições, a quantidade de jogos retirados por seus clientes durante o ano passado (i.e. Clientes[i] = X -> o cliente “i” retirou X jogos no ano passado). Agora esta locadora está fazendo uma promoção e, para cada 5 jogos retirados no ano passado, o cliente tem direito a uma locação grátis. Faça um programa que crie um outro vetor contendo a quantidade de locações gratuitas a que cada cliente tem direito.\n",
    "    \n",
    "    ENTRADA: 10 números inteiros (>=0) indicando o número de locações de cada cliente\n",
    "\n",
    "    SAIDA: vetor de inteiros indicando o número de locações gratuitas de cada cliente"
   ]
  },
  {
   "cell_type": "code",
   "execution_count": 92,
   "metadata": {},
   "outputs": [
    {
     "name": "stdin",
     "output_type": "stream",
     "text": [
      " 5\n",
      " 12\n",
      " 34\n",
      " 12\n",
      " 5\n",
      " 55\n",
      " 6\n",
      " 0\n",
      " 37\n",
      " 101\n"
     ]
    },
    {
     "name": "stdout",
     "output_type": "stream",
     "text": [
      "[1, 2, 6, 2, 1, 11, 1, 0, 7, 20]\n"
     ]
    }
   ],
   "source": [
    "promo = []\n",
    "\n",
    "for _ in range (10):\n",
    "    cliente = int(input())\n",
    "    promo.append(int(cliente/5))\n",
    "\n",
    "print(promo)"
   ]
  },
  {
   "cell_type": "markdown",
   "metadata": {},
   "source": [
    "### Vetores 3) Inverte\n",
    "\n",
    "    Faça um programa que receba uma lista A (vetor) de inteiros de dimensão N e: \n",
    "    (a) inverta os valores de A, troque o primeiro pelo último, o segundo pelo penúltimo e assim por diante. \n",
    "    (b) após este procedimento, criar um vetor B de dimensão N com o fatorial de cada valor de A, respeitando as posições, caso o valor for positivo ou nulo. Deixe os valores negativos intactos. \n",
    "    (c) imprima o vetor B.\n",
    "    \n",
    "    ENTRADA: inteiro N (>=1) e depois N números inteiros que irão compor o vetor A\n",
    "\n",
    "    SAIDA: vetor B de inteiros "
   ]
  },
  {
   "cell_type": "code",
   "execution_count": 106,
   "metadata": {},
   "outputs": [
    {
     "name": "stdin",
     "output_type": "stream",
     "text": [
      " 5\n",
      " -2\n",
      " 7\n",
      " 3\n",
      " 0\n",
      " 5\n"
     ]
    },
    {
     "name": "stdout",
     "output_type": "stream",
     "text": [
      "[120, 1, 6, 5040, -2]\n"
     ]
    }
   ],
   "source": [
    "N = int(input())\n",
    "A = []\n",
    "Ainv = []\n",
    "B = []\n",
    "\n",
    "for i in range (N):\n",
    "    x = int(input())\n",
    "    A.append(x)\n",
    "    Ainv = [x] + Ainv\n",
    "    \n",
    "for i in range (N):\n",
    "    if (Ainv[i] >= 0):\n",
    "        fat = 1\n",
    "        for j in range (1,Ainv[i]+1):\n",
    "            fat *= j\n",
    "        B.append(fat)\n",
    "    else:\n",
    "        B.append(Ainv[i])\n",
    "\n",
    "print(B)"
   ]
  },
  {
   "cell_type": "markdown",
   "metadata": {},
   "source": [
    "### Vetores 4) Média\n",
    "\n",
    "    Faça um programa que recebe uma lista de números reais distintos positivos de tamanho 5. O programa deve percorrer esta lista e imprimir o valor mais próximo da média dos valores deste vetor\n",
    "    \n",
    "    ENTRADA: 5 números reais positivos (>= 0) e distintos (pode acreditar)\n",
    "\n",
    "    SAIDA: número real (com 2 casas decimais) que representa o valor do vetor que tem a menor distância para a média do vetor"
   ]
  },
  {
   "cell_type": "code",
   "execution_count": 119,
   "metadata": {},
   "outputs": [
    {
     "name": "stdin",
     "output_type": "stream",
     "text": [
      " 6\n",
      " 1\n",
      " 33\n",
      " 14\n",
      " 21\n"
     ]
    },
    {
     "name": "stdout",
     "output_type": "stream",
     "text": [
      "14.00\n"
     ]
    }
   ],
   "source": [
    "vetor = []\n",
    "soma = 0\n",
    "\n",
    "for _ in range (5):\n",
    "    num = float(input())\n",
    "    vetor.append(num)\n",
    "    soma += num\n",
    "    \n",
    "media = soma / 5\n",
    "dist = soma\n",
    "\n",
    "for i in range (5):\n",
    "    if ((vetor[i]-media)**2 < dist**2):\n",
    "        dist = vetor[i]-media\n",
    "        min = vetor[i]\n",
    "\n",
    "print ('%.2f'%min)"
   ]
  },
  {
   "cell_type": "markdown",
   "metadata": {},
   "source": [
    "### Vetores 5) Intercalar\n",
    "\n",
    "    Faça um programa que receba duas listas (vetores) A e B de inteiros, uma de tamanho N e outra de tamanho M, onde N<=M. O programa deve percorrer as duas listas e intercalar os elementos de ambas, formando uma terceira lista C. A terceira lista deve começar pelo primeiro elemento da lista A seguido pelo primeiro elemento da lista B. Quando acabar de intercalar os elementos, se ainda tiver elementos sobrando na lista maior (B), colocar esses elementos no fim da lista C.\n",
    "    \n",
    "    Exemplo:\n",
    "    N=4 e M=6\n",
    "    A = [1, 7, 3, 9]\n",
    "    B = [10, 2, 47, 40, 93, 8]\n",
    "    C = [1, 10, 7, 2, 3, 47, 9, 40, 93, 8]\n",
    "\n",
    "    ENTRADA: dois inteiro N e M onde 1 <= N <= M (pode acreditar) seguidos por N inteiros (que irão compor o vetor A) e M inteiros (que irão compor o vetor B) \n",
    "\n",
    "    SAIDA: vetor C de inteiros "
   ]
  },
  {
   "cell_type": "code",
   "execution_count": 121,
   "metadata": {},
   "outputs": [
    {
     "name": "stdin",
     "output_type": "stream",
     "text": [
      " 4\n",
      " 6\n",
      " 1\n",
      " 7\n",
      " 3\n",
      " 9\n",
      " 10\n",
      " 2\n",
      " 47\n",
      " 40\n",
      " 93\n",
      " 8\n"
     ]
    },
    {
     "name": "stdout",
     "output_type": "stream",
     "text": [
      "[1, 10, 7, 2, 3, 47, 9, 40, 93, 8]\n"
     ]
    }
   ],
   "source": [
    "N = int(input())\n",
    "M = int(input())\n",
    "A = []\n",
    "B = []\n",
    "C = []\n",
    "\n",
    "for _ in range (N):\n",
    "    A.append(int(input()))\n",
    "    \n",
    "for _ in range (M):\n",
    "    B.append(int(input()))\n",
    "    \n",
    "for i in range (N):\n",
    "    C= C + [A[i]] + [B[i]]\n",
    "    \n",
    "if M > N:\n",
    "    for i in range (N,M):\n",
    "        C = C + [B[i]]\n",
    "\n",
    "print(C)"
   ]
  },
  {
   "cell_type": "markdown",
   "metadata": {},
   "source": [
    "## Ordem\n",
    "Prazo de entrega: 24/11"
   ]
  },
  {
   "cell_type": "markdown",
   "metadata": {},
   "source": [
    "### Ordem 1) Bolhas\n",
    "\n",
    "    Faça um programa que receba N vetores de inteiros de tamanho 5 e os ordene pelo método da bolha. Para cada vetor ordenado, imprima o número de trocas realizadas entre posições adjacentes.\n",
    "\n",
    "    ENTRADA: inteiro N>=1 (pode acreditar) seguidos por 5*N inteiros, que de 5 em 5, irão compor os vetores\n",
    "\n",
    "    SAIDA: N inteiros, um por linha, representando o número de trocas em cada vetor, respectivamente. "
   ]
  },
  {
   "cell_type": "code",
   "execution_count": 15,
   "metadata": {},
   "outputs": [
    {
     "name": "stdin",
     "output_type": "stream",
     "text": [
      " 2\n",
      " 1\n",
      " 2\n",
      " 3\n",
      " 4\n",
      " 0\n"
     ]
    },
    {
     "name": "stdout",
     "output_type": "stream",
     "text": [
      "4\n"
     ]
    },
    {
     "name": "stdin",
     "output_type": "stream",
     "text": [
      " 10\n",
      " 20\n",
      " 5\n",
      " 30\n",
      " 7\n"
     ]
    },
    {
     "name": "stdout",
     "output_type": "stream",
     "text": [
      "5\n"
     ]
    }
   ],
   "source": [
    "N = int(input())\n",
    "\n",
    "for _ in range (N):\n",
    "    v = [0]*5\n",
    "    cont = 0\n",
    "    \n",
    "    for i in range (5):\n",
    "        v[i] = int(input())\n",
    "    \n",
    "    for i in range (5):\n",
    "        for j in range (4):\n",
    "            if (v[j]>v[j+1]):\n",
    "                v[j],v[j+1]=v[j+1],v[j]    \n",
    "                cont += 1\n",
    "    \n",
    "    print(cont)"
   ]
  },
  {
   "cell_type": "markdown",
   "metadata": {},
   "source": [
    "### Ordem 2) Repetidos\n",
    "\n",
    "    Faça um programa que receba um vetor de inteiros de tamanho N, retire os elementos repetidos, ordene e imprima o resultado.\n",
    "\n",
    "    OBS: Use qualquer método de ordenação\n",
    "\n",
    "    ENTRADA: inteiro N>=1 (pode acreditar) seguidos por N números reais.\n",
    "\n",
    "    SAIDA: vetor de números inteiros sem repetidos e ordenados.\n"
   ]
  },
  {
   "cell_type": "code",
   "execution_count": 25,
   "metadata": {},
   "outputs": [
    {
     "name": "stdin",
     "output_type": "stream",
     "text": [
      " 5\n",
      " 1\n",
      " 2\n",
      " 1\n",
      " 6\n",
      " 0\n"
     ]
    },
    {
     "name": "stdout",
     "output_type": "stream",
     "text": [
      "[0, 1, 2, 6]\n"
     ]
    }
   ],
   "source": [
    "N = int(input())\n",
    "v = []\n",
    "\n",
    "for i in range (N):\n",
    "    x = int(input())\n",
    "    repeat = False    \n",
    "    for i in v: \n",
    "        if x == i:\n",
    "            repeat = True   \n",
    "    if repeat == False:\n",
    "        v.append(x)\n",
    "    \n",
    "for _ in v:\n",
    "    for i in range (len(v)-1):\n",
    "        if (v[i]>v[i+1]):\n",
    "            v[i],v[i+1]=v[i+1],v[i]    \n",
    "    \n",
    "print(v)"
   ]
  },
  {
   "cell_type": "markdown",
   "metadata": {},
   "source": [
    "### Ordem 3) Par Impar\n",
    "\n",
    "    Faça um programa que receba um vetor de inteiros positivos de tamanho N, e ordene seguindo o seguinte critério.\n",
    "    - primeiro os pares\n",
    "    - depois os ímpares\n",
    "    Sendo que devem ser apresentados os pares em ordem crescente e os ímpares em ordem decrescente.\n",
    "\n",
    "    OBS: Use qualquer método de ordenação\n",
    "\n",
    "    ENTRADA: inteiro N>=1 (pode acreditar) seguidos por N números inteiros positivos (pode acreditar).\n",
    "\n",
    "    SAIDA: vetor de números inteiros representando a ordem descrita acima."
   ]
  },
  {
   "cell_type": "code",
   "execution_count": 38,
   "metadata": {},
   "outputs": [
    {
     "name": "stdin",
     "output_type": "stream",
     "text": [
      " 5\n",
      " 1\n",
      " 2\n",
      " 3\n",
      " 4\n",
      " 5\n"
     ]
    },
    {
     "name": "stdout",
     "output_type": "stream",
     "text": [
      "[2, 4, 5, 3, 1]\n"
     ]
    }
   ],
   "source": [
    "N = int(input())\n",
    "v_par = []\n",
    "v_impar = []\n",
    "    \n",
    "for i in range (N):\n",
    "    x = int(input())\n",
    "    if x%2 == 0:\n",
    "        v_par.append(x)\n",
    "    else:\n",
    "        v_impar.append(x)\n",
    "\n",
    "for _ in v_par:\n",
    "    for i in range (len(v_par)-1):\n",
    "        if (v_par[i]>v_par[i+1]):\n",
    "            v_par[i],v_par[i+1]=v_par[i+1],v_par[i]    \n",
    "\n",
    "for _ in v_impar:\n",
    "    for i in range (len(v_impar)-1):\n",
    "        if (v_impar[i]<v_impar[i+1]):\n",
    "            v_impar[i],v_impar[i+1]=v_impar[i+1],v_impar[i]\n",
    "\n",
    "v = []\n",
    "v.extend(v_par)\n",
    "v.extend(v_impar)\n",
    "\n",
    "print(v)"
   ]
  },
  {
   "cell_type": "markdown",
   "metadata": {},
   "source": [
    "### Ordem 4) Concurso\n",
    "\n",
    "    Alguns candidatos prestaram concurso em uma empresa Capsule. Escreva um programa que:\n",
    "        (a) O usuário fornecerá o número de candidatos N, a matrícula e a nota de cada candidato. O programa deve armazenar a matrícula dos candidatos em uma lista e a nota em outra lista.\n",
    "        (b) Apresentar um relatório apresentando a matrícula do candidato em ordem crescente de classificação de acordo com a nota obtida, como exemplo abaixo. \n",
    "        \n",
    "    OBS: Use qualquer método de ordenação \n",
    "\n",
    "    ENTRADA: inteiro N>=1 (pode acreditar) seguidos por N números inteiros positivos (pode acreditar) representando as matrículas, e mais N números reais positivos (pode acreditar) representando as notas.\n",
    "\n",
    "    SAIDA: vetor de números inteiros de matrícula representando a classificação do concurso."
   ]
  },
  {
   "cell_type": "code",
   "execution_count": 39,
   "metadata": {},
   "outputs": [
    {
     "name": "stdin",
     "output_type": "stream",
     "text": [
      " 4\n",
      " 12\n",
      " 33\n",
      " 15\n",
      " 3\n",
      " 8.8\n",
      " 7.4\n",
      " 4.3\n",
      " 2.2\n"
     ]
    },
    {
     "name": "stdout",
     "output_type": "stream",
     "text": [
      "[3, 15, 33, 12]\n"
     ]
    }
   ],
   "source": [
    "N = int(input())\n",
    "matr = [0]*N\n",
    "nota = [0]*N\n",
    "\n",
    "for i in range (N):\n",
    "    matr[i] = int(input())\n",
    "    \n",
    "for i in range (N):\n",
    "    nota[i] = float(input())\n",
    "      \n",
    "for _ in range (N):\n",
    "    for i in range (N-1):\n",
    "        if (nota[i]>nota[i+1]):\n",
    "            nota[i],nota[i+1]=nota[i+1],nota[i]    \n",
    "            matr[i],matr[i+1]=matr[i+1],matr[i]   \n",
    "    \n",
    "print(matr)"
   ]
  },
  {
   "cell_type": "markdown",
   "metadata": {},
   "source": [
    "## Matrizes\n",
    "Prazo de entrega: 01/12"
   ]
  },
  {
   "cell_type": "markdown",
   "metadata": {},
   "source": [
    "### Matrizes 1) Maior diferença\n",
    "\n",
    "    Faça um programa que leia uma matriz NxM de inteiros, descubra o maior elemento da matriz,diminua cada elemento da matriz por este maior elemento, imprima a matriz.\n",
    "\n",
    "    ENTRADA: inteiros N>=2 e M>=2 (pode acreditar) seguidos por N*M inteiros que irão compor a matriz (primeiros M elementos são a primeira linha, os próximos M elementos são a segunda, ...)\n",
    "\n",
    "    SAIDA: matriz de inteiros transformada (formato padrão do python)\n"
   ]
  },
  {
   "cell_type": "code",
   "execution_count": 7,
   "metadata": {},
   "outputs": [
    {
     "name": "stdin",
     "output_type": "stream",
     "text": [
      " 2\n",
      " 3\n",
      " -3\n",
      " 0\n",
      " 5\n",
      " 3\n",
      " 2\n",
      " 1\n"
     ]
    },
    {
     "name": "stdout",
     "output_type": "stream",
     "text": [
      "[[-8, -5, 0], [-2, -3, -4]]\n"
     ]
    }
   ],
   "source": [
    "N = int(input())\n",
    "M = int(input())\n",
    "\n",
    "matriz = []\n",
    "\n",
    "for i in range (N):\n",
    "    l = []    \n",
    "    \n",
    "    if i == 0:\n",
    "        maior = int(input())\n",
    "        l.append(maior) \n",
    "        for j in range (1,M):\n",
    "            a = int(input())\n",
    "            l.append(a)\n",
    "            if a > maior:\n",
    "                maior = a            \n",
    "    else:\n",
    "        for j in range (M):\n",
    "            a = int(input())\n",
    "            l.append(a)    \n",
    "            if a > maior:\n",
    "                maior = a\n",
    "        \n",
    "    matriz.append(l)\n",
    "    \n",
    "for i in range (N):\n",
    "    for j in range (M):\n",
    "        matriz[i][j] -= maior\n",
    "    \n",
    "print(matriz)"
   ]
  },
  {
   "cell_type": "markdown",
   "metadata": {},
   "source": [
    "### Matrizes 2) Diagonais\n",
    "\n",
    "    Faça um programa que leia uma matriz NxN de inteiros, troque os elementos da diagonal principal e da diagonal secundária, e inverta os elementos da primeira linha. Depois imprima a matriz.\n",
    "\n",
    "    ENTRADA: inteiro N>=2 (pode acreditar) seguidos por N*N inteiros que irão compor a matriz (primeiros N elementos são a primeira linha, os próximos N elementos são a segunda, ...)\n",
    "\n",
    "    SAIDA: matriz de inteiros transformada (formato padrão do python)\n"
   ]
  },
  {
   "cell_type": "code",
   "execution_count": 10,
   "metadata": {},
   "outputs": [
    {
     "name": "stdin",
     "output_type": "stream",
     "text": [
      " 4\n",
      " 1\n",
      " 2\n",
      " 3\n",
      " 4\n",
      " 5\n",
      " 6\n",
      " 7\n",
      " 8\n",
      " 9\n",
      " 10\n",
      " 11\n",
      " 12\n",
      " 13\n",
      " 14\n",
      " 15\n",
      " 16\n"
     ]
    },
    {
     "name": "stdout",
     "output_type": "stream",
     "text": [
      "[[1, 3, 2, 4], [5, 7, 6, 8], [9, 11, 10, 12], [16, 14, 15, 13]]\n"
     ]
    }
   ],
   "source": [
    "N = int(input())\n",
    "\n",
    "matriz = []\n",
    "\n",
    "for _ in range (N):\n",
    "    l = []    \n",
    "    \n",
    "    for _ in range (N):\n",
    "        a = int(input())\n",
    "        l.append(a)    \n",
    "        \n",
    "    matriz.append(l)\n",
    "    \n",
    "for i in range (N):\n",
    "    matriz[i][i],matriz[i][N-i-1] = matriz[i][N-i-1],matriz[i][i]\n",
    "    if i == 0:\n",
    "        for j in range (int(N/2)):\n",
    "            matriz[i][j],matriz[i][N-j-1] = matriz[i][N-j-1],matriz[i][j]\n",
    "    \n",
    "print(matriz)"
   ]
  },
  {
   "cell_type": "markdown",
   "metadata": {},
   "source": [
    "### Matrizes 3) Diagonal acima\n",
    "\n",
    "    Faça um programa que recebe como parâmetro uma matriz NxN de números inteiros. Esse programa deve informar:\n",
    "        - a soma dos elementos acima da diagonal principal.\n",
    "        - o número de células da matriz que têm valor menor que a média dos valores das células da matriz,\n",
    "        \n",
    "\n",
    "    ENTRADA: inteiro N>=2 (pode acreditar) seguidos por N*N inteiros que irão compor a matriz (primeiros N elementos são a primeira linha, os próximos N elementos são a segunda, ...)\n",
    "\n",
    "    SAIDA: dois números inteiros representando a soma dos elementos acima da diagonal principal e o número de células da matriz que têm valor menor que a média dos valores das células da matriz."
   ]
  },
  {
   "cell_type": "code",
   "execution_count": 14,
   "metadata": {},
   "outputs": [
    {
     "name": "stdin",
     "output_type": "stream",
     "text": [
      " 4\n",
      " 1\n",
      " 2\n",
      " 3\n",
      " 4\n",
      " 5\n",
      " 6\n",
      " 7\n",
      " 8\n",
      " 9\n",
      " 10\n",
      " 11\n",
      " 12\n",
      " 13\n",
      " 14\n",
      " 15\n",
      " 16\n"
     ]
    },
    {
     "name": "stdout",
     "output_type": "stream",
     "text": [
      "36\n",
      "8\n"
     ]
    }
   ],
   "source": [
    "N = int(input())\n",
    "\n",
    "matriz = []\n",
    "\n",
    "soma_acima = 0\n",
    "soma_total = 0\n",
    "\n",
    "for i in range (N):\n",
    "    l = []    \n",
    "    \n",
    "    for j in range (N):\n",
    "        a = int(input())\n",
    "        l.append(a)\n",
    "        soma_total += a\n",
    "        if j>i:\n",
    "            soma_acima += a\n",
    "        \n",
    "    matriz.append(l)\n",
    "    \n",
    "media = soma_total / N**2 \n",
    "cont = 0\n",
    "    \n",
    "for i in range (N):\n",
    "    for j in range (N):\n",
    "        if matriz[i][j] < media:\n",
    "            cont += 1\n",
    "    \n",
    "print(soma_acima)\n",
    "print(cont)"
   ]
  },
  {
   "cell_type": "markdown",
   "metadata": {},
   "source": [
    "### Matrizes 4) Módulo\n",
    "\n",
    "    Faça um programa que receba uma matriz NxM de inteiros e some cada um dos “N” elementos de cada uma das “M” colunas pelo menor elemento em módulo daquela coluna. Imprima a matriz modificada\n",
    "    \n",
    "    ENTRADA: inteiros N>=2 e M>=2 (pode acreditar) seguidos por N*M inteiros que irão compor a matriz (primeiros M elementos são a primeira linha, os próximos M elementos são a segunda, ...)\n",
    "    \n",
    "    SAIDA: matriz de inteiros transformada (formato padrão do python)\n"
   ]
  },
  {
   "cell_type": "code",
   "execution_count": 19,
   "metadata": {},
   "outputs": [
    {
     "name": "stdin",
     "output_type": "stream",
     "text": [
      " 2\n",
      " 3\n",
      " -1\n",
      " -3\n",
      " -5\n",
      " 6\n",
      " 4\n",
      " -2\n"
     ]
    },
    {
     "name": "stdout",
     "output_type": "stream",
     "text": [
      "[[0, 0, -3], [7, 7, 0]]\n"
     ]
    }
   ],
   "source": [
    "N = int(input())\n",
    "M = int(input())\n",
    "\n",
    "matriz = []\n",
    "\n",
    "for i in range (N):\n",
    "    l = []       \n",
    "    \n",
    "    for j in range (M):\n",
    "        a = int(input())\n",
    "        l.append(a)    \n",
    "        \n",
    "    matriz.append(l)\n",
    "    \n",
    "    menor = []\n",
    "    \n",
    "for j in range (M):    \n",
    "    a = ((matriz[0][j])**2)**(1/2)\n",
    "    menor.append(a) \n",
    "    \n",
    "    for i in range (1,N):\n",
    "        a = ((matriz[i][j])**2)**(1/2)\n",
    "        if a < menor[j]:\n",
    "            menor[j] = a\n",
    "        \n",
    "    for i in range (N):\n",
    "        matriz[i][j]+=menor[j]\n",
    "        matriz[i][j]=int(matriz[i][j])\n",
    "    \n",
    "print(matriz)"
   ]
  },
  {
   "cell_type": "markdown",
   "metadata": {},
   "source": [
    "## Matrizes (Continuação)\n",
    "Prazo de entrega: 08/12"
   ]
  },
  {
   "cell_type": "markdown",
   "metadata": {},
   "source": [
    "### Matrizes Cont. 0) Ordena\n",
    "\n",
    "    Receba uma matriz A (NxM) de inteiros e ordene seus elementos de forma que os maiores fiquem na primeira coluna, depois os próximos maiores na segunda coluna e assim por diante (e cada coluna também esteja ordenada).\n",
    "\n",
    "    ENTRADA: inteiro N,M>=2 (pode acreditar) seguidos por N*M inteiros que irão compor a matriz (primeiros N elementos são a primeira linha, os próximos N elementos são a segunda, ...)\n",
    "\n",
    "    SAIDA: matriz A ordenada (formato padrão do python)"
   ]
  },
  {
   "cell_type": "code",
   "execution_count": 2,
   "metadata": {},
   "outputs": [
    {
     "name": "stdin",
     "output_type": "stream",
     "text": [
      " 2\n",
      " 3\n",
      " 6\n",
      " 5\n",
      " 7\n",
      " 4\n",
      " 8\n",
      " 33\n"
     ]
    },
    {
     "name": "stdout",
     "output_type": "stream",
     "text": [
      "[[33, 7, 5], [8, 6, 4]]\n"
     ]
    }
   ],
   "source": [
    "N = int(input())\n",
    "M = int(input())\n",
    "v = [0]*(N*M)\n",
    "\n",
    "for i in range (N*M):\n",
    "    v[i] = int(input())\n",
    "\n",
    "for _ in range (N*M):\n",
    "    for i in range ((N*M)-1):\n",
    "        if (v[i]<v[i+1]):\n",
    "            v[i],v[i+1]=v[i+1],v[i]\n",
    "\n",
    "A = []\n",
    "for i in range(N):\n",
    "    l = []\n",
    "    for j in range(M):\n",
    "        l.append(v[i+N*j])\n",
    "    A.append(l) \n",
    "            \n",
    "print(A)"
   ]
  },
  {
   "cell_type": "markdown",
   "metadata": {},
   "source": [
    "### Matrizes Cont. 1) Operações\n",
    "\n",
    "    Faça um programa que leia a matriz A de inteiros e de dimensão NxN. Calcule a Matriz B = AxA e depois calcule a matriz C = B+AT, onde AT é a matriz transposta de A. No fim, imprima a matriz C.\n",
    "    \n",
    "    ENTRADA: inteiro N>=2 (pode acreditar) seguidos por N*N inteiros que irão compor a matriz (primeiros N elementos são a primeira linha, os próximos N elementos são a segunda, ...)\n",
    "    \n",
    "    SAIDA: matriz de inteiros calculada C=B+AT (formato padrão do python)"
   ]
  },
  {
   "cell_type": "code",
   "execution_count": 3,
   "metadata": {},
   "outputs": [
    {
     "name": "stdin",
     "output_type": "stream",
     "text": [
      " 2\n",
      " 2\n",
      " 4\n",
      " 4\n",
      " 5\n"
     ]
    },
    {
     "name": "stdout",
     "output_type": "stream",
     "text": [
      "[[22, 32], [32, 46]]\n"
     ]
    }
   ],
   "source": [
    "N = int(input())\n",
    "\n",
    "A  = []\n",
    "B  = []\n",
    "At = []\n",
    "C  = []\n",
    "\n",
    "for _ in range (N):\n",
    "    l = []        \n",
    "    for _ in range (N):\n",
    "        a = int(input())\n",
    "        l.append(a)        \n",
    "    A.append(l)\n",
    "\n",
    "for _ in range (N):\n",
    "    B.append([0]*N)\n",
    "    At.append([0]*N)\n",
    "    C.append([0]*N)\n",
    "    \n",
    "    \n",
    "for i in range (N):\n",
    "    for j in range (N):\n",
    "        for k in range (N):\n",
    "            B[i][j]=B[i][j]+(A[i][k]*A[k][j])\n",
    "            \n",
    "for i in range (N):      \n",
    "    for j in range (N):\n",
    "        At[i][j],At[j][i]=A[j][i],A[i][j]\n",
    "\n",
    "for i in range (N):      \n",
    "    for j in range (N):\n",
    "        C[i][j] = B[i][j]+At[i][j]\n",
    "\n",
    "print(C)"
   ]
  },
  {
   "cell_type": "markdown",
   "metadata": {},
   "source": [
    "### Matrizes Cont. 2) Média Pintada\n",
    "\n",
    "    Faça um programa que receba uma matriz A (NxN) e calcule e escreva a média dos elementos da sua área pintada. A Figura abaixo fornece um exemplo de uma matriz A (12x12) com os elementos a serem somados para a média pintados.\n",
    "    \n",
    "    ENTRADA: inteiro N>=3 (pode acreditar) seguidos por N*N inteiros que irão compor a matriz (primeiros N elementos são a primeira linha, os próximos N elementos são a segunda, ...)\n",
    "    \n",
    "    SAIDA: número real (2 casas decimais) representando a média dos números pintados\n"
   ]
  },
  {
   "cell_type": "code",
   "execution_count": 4,
   "metadata": {},
   "outputs": [
    {
     "name": "stdin",
     "output_type": "stream",
     "text": [
      " 3\n",
      " 2\n",
      " 4\n",
      " 8\n",
      " 1\n",
      " 9\n",
      " 5\n",
      " 1\n",
      " 8\n",
      " 8\n"
     ]
    },
    {
     "name": "stdout",
     "output_type": "stream",
     "text": [
      "6.00\n"
     ]
    }
   ],
   "source": [
    "N = int(input())\n",
    "\n",
    "A = []\n",
    "\n",
    "for _ in range (N):\n",
    "    l = []        \n",
    "    for _ in range (N):\n",
    "        a = int(input())\n",
    "        l.append(a)         \n",
    "    A.append(l)\n",
    "\n",
    "sum  = 0\n",
    "cont = 0\n",
    "\n",
    "for i in range (N):\n",
    "    for j in range (N):\n",
    "        if (j > i and j < N-i-1) or (j > N-i-1 and j < i):\n",
    "            sum  += A[i][j]\n",
    "            cont += 1    \n",
    "    \n",
    "print ('%.2f'%(sum/cont))"
   ]
  },
  {
   "cell_type": "markdown",
   "metadata": {},
   "source": [
    "## Funções\n",
    "Prazo de entrega: 11/12"
   ]
  },
  {
   "cell_type": "markdown",
   "metadata": {},
   "source": [
    "### Funções 1) Granizo\n",
    "\n",
    "    Neste problema, dado um inteiro positivo, sua tarefa é encontrar o maior número na Sequência de Granizo que inicie com este o número dado.\n",
    "\n",
    "    OBS: O programa deve ser implementado usando uma função que recebe o número H inicial e retorna o maior número gerado na sequência para ser impresso. \n",
    "\n",
    "    ENTRADA: inteiro H>=1 (pode acreditar) representando o número inicial da sequência.\n",
    "    \n",
    "    SAIDA: inteiro representando o maior número gerado da sequência"
   ]
  },
  {
   "cell_type": "code",
   "execution_count": 5,
   "metadata": {},
   "outputs": [
    {
     "name": "stdin",
     "output_type": "stream",
     "text": [
      " 11\n"
     ]
    },
    {
     "name": "stdout",
     "output_type": "stream",
     "text": [
      "52\n"
     ]
    }
   ],
   "source": [
    "def maiorGranizo(h0):\n",
    "    maior = h0\n",
    "    \n",
    "    while h0 != 1:    \n",
    "          \n",
    "        if h0%2 == 0:\n",
    "            h1 = h0/2\n",
    "        else:\n",
    "            h1 = 3*h0+1\n",
    "            \n",
    "        h0 = h1\n",
    "        \n",
    "        if h0 > maior:\n",
    "            maior = h0    \n",
    "    \n",
    "    return maior\n",
    "\n",
    "h0 = int(input())\n",
    "maior = maiorGranizo(h0)\n",
    "print(int(maior))"
   ]
  },
  {
   "cell_type": "markdown",
   "metadata": {},
   "source": [
    "### Funções 2) Maior Sequencia\n",
    "\n",
    "    Escreva um programa que receba uma lista de N números inteiros e retorne, para o usuário, o comprimento da maior sequência decrescente. \n",
    "\n",
    "    OBS: O programa deve ser implementado usando uma função que recebe apenas uma lista (vetor) e retorna o tamanho da maior sequência decrescente encontrada para ser impressa.\n",
    "\n",
    "    ENTRADA: inteiro N>=1 (pode acreditar) representando o número de elementos da lista, seguido por N inteiros que formaram a lista.\n",
    "\n",
    "    SAIDA: inteiro representando o tamanho da maior sequência decrescente encontrada"
   ]
  },
  {
   "cell_type": "code",
   "execution_count": 7,
   "metadata": {},
   "outputs": [
    {
     "name": "stdin",
     "output_type": "stream",
     "text": [
      " 5\n",
      " 5\n",
      " 4\n",
      " 3\n",
      " 2\n",
      " 1\n"
     ]
    },
    {
     "name": "stdout",
     "output_type": "stream",
     "text": [
      "5\n"
     ]
    }
   ],
   "source": [
    "def maiorSequenciaDecrescente(v):\n",
    "    \n",
    "    sequencias = []\n",
    "    cont = 1\n",
    "    \n",
    "    for i in range (N-1):\n",
    "        if v[i] > v[i+1]:\n",
    "            cont += 1\n",
    "            if i == N-2:\n",
    "                sequencias.append(cont)\n",
    "        else:\n",
    "            sequencias.append(cont)\n",
    "            cont = 1\n",
    "            \n",
    "    maior = 0\n",
    "    \n",
    "    for sequencia in sequencias:\n",
    "        if sequencia > maior:\n",
    "            maior = sequencia\n",
    "    \n",
    "    return maior\n",
    "\n",
    "N = int(input())\n",
    "v = [0]*N\n",
    "for i in range (N):\n",
    "    v[i] = int(input())\n",
    "\n",
    "maior = maiorSequenciaDecrescente(v)\n",
    "\n",
    "print(int(maior))"
   ]
  },
  {
   "cell_type": "markdown",
   "metadata": {},
   "source": [
    "### Funções 3) Mínimos\n",
    "\n",
    "    Escreva um programa que recebe uma lista L com N elementos (sem repetições pode acreditar). Depois recebe uma sequência de M intervalos de índices [a,b] (onde 0 <= a <= b < n) e tem como saída, para cada intervalo, o índice do elemento mínimo entre as posições a e b. \n",
    "\n",
    "    OBS: O programa deve ser implementado usando uma função que recebe apenas um inteiro N, uma lista L (vetor) de tamanho N, e dois índices a e b que irão determinar o intervalo. A função deve retornar para o programa principal o índice do menor elemento dentro do intervalo.\n",
    "\n",
    "    ENTRADA: inteiro N>=1 (pode acreditar) representando o número tamanho da lista (vetor), N inteiros que serão os elementos do vetor, inteiro M>=1 (pode acreditar) representando o número de intervalos e 2*M números inteiros a e b representando cada um dos intervalos.\n",
    "\n",
    "    SAIDA: M números inteiros representando os índices dos menores elementos, um para cada intervalo."
   ]
  },
  {
   "cell_type": "code",
   "execution_count": 8,
   "metadata": {},
   "outputs": [
    {
     "name": "stdin",
     "output_type": "stream",
     "text": [
      " 3\n",
      " 0\n",
      " 1\n",
      " 2\n",
      " 2\n",
      " 2\n",
      " 2\n"
     ]
    },
    {
     "name": "stdout",
     "output_type": "stream",
     "text": [
      "2\n"
     ]
    },
    {
     "name": "stdin",
     "output_type": "stream",
     "text": [
      " 0\n",
      " 2\n"
     ]
    },
    {
     "name": "stdout",
     "output_type": "stream",
     "text": [
      "0\n"
     ]
    }
   ],
   "source": [
    "def minimo(N, v, a, b):\n",
    "    \n",
    "    menor  = v[a]\n",
    "    imenor = a\n",
    "    \n",
    "    for i in range (a+1, b+1):\n",
    "        if v[i] < menor:\n",
    "            menor  = v[i]\n",
    "            imenor = i\n",
    "        \n",
    "    return imenor\n",
    "\n",
    "N = int(input())\n",
    "\n",
    "v = [0]*N\n",
    "for i in range (N):\n",
    "    v[i] = int(input())\n",
    "\n",
    "M = int(input())\n",
    "\n",
    "for i in range (M):\n",
    "    a = int(input())\n",
    "    b = int(input())    \n",
    "    indice = minimo(N, v, a, b)    \n",
    "    print(int(indice))"
   ]
  }
 ],
 "metadata": {
  "kernelspec": {
   "display_name": "Python 3",
   "language": "python",
   "name": "python3"
  },
  "language_info": {
   "codemirror_mode": {
    "name": "ipython",
    "version": 3
   },
   "file_extension": ".py",
   "mimetype": "text/x-python",
   "name": "python",
   "nbconvert_exporter": "python",
   "pygments_lexer": "ipython3",
   "version": "3.7.6"
  }
 },
 "nbformat": 4,
 "nbformat_minor": 4
}
